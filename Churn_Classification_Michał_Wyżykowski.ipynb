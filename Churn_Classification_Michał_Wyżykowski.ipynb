{
 "cells": [
  {
   "cell_type": "markdown",
   "metadata": {},
   "source": [
    "# ISSUE"
   ]
  },
  {
   "cell_type": "markdown",
   "metadata": {},
   "source": [
    "Purpose: Prediction of customers who leave the telecommunications company.\n",
    "\n",
    "The problem of classification is one of the most frequently discussed in Data Science. And telecommunications companies have a lot of data about consumers.\n",
    "\n",
    "Link to Kaggle: https://www.kaggle.com/blastchar/telco-customer-churn\n"
   ]
  },
  {
   "cell_type": "markdown",
   "metadata": {},
   "source": [
    "# VARIABLES"
   ]
  },
  {
   "cell_type": "markdown",
   "metadata": {},
   "source": [
    "1. CustomerID\n",
    "2. gender - Customer gender (female, male) - binary\n",
    "3. SeniorCitizen (Whether the customer is a senior citizen or not (1, 0)) - binary\n",
    "4. Partner (Whether the customer has a partner or not (Yes, No)) - binary\n",
    "5. Dependents (Whether the customer has dependents or not (Yes, No)) - binary\n",
    "6. tenure (Number of months the customer has stayed with the company) - continuous\n",
    "7. PhoneService (Whether the customer has a phone service or not (Yes, No)) - binary\n",
    "8. MultipleLines (Whether the customer has multiple lines or not (Yes, No, No phone service)) - 3 classes\n",
    "9. InternetService (Customer’s internet service provider (DSL, Fiber optic, No)) - 4 classes\n",
    "10. OnlineSecurity (Whether the customer has online security or not (Yes, No, No internet service)) - 3 classes\n",
    "11. OnlineBackup (Whether the customer has online backup or not (Yes, No, No internet service)) - 3 classes\n",
    "12. DeviceProtection (Whether the customer has device protection or not (Yes, No, No internet service)) - 3 classes\n",
    "13. TechSupport (Whether the customer has tech support or not (Yes, No, No internet service)) - 3 classes\n",
    "14. StreamingTV (Whether the customer has streaming TV or not (Yes, No, No internet service)) - 3 classes\n",
    "15. StreamingMovies (Whether the customer has streaming movies or not (Yes, No, No internet service)) - 3 classes\n",
    "16. Contract (The contract term of the customer (Month-to-month, One year, Two year)) - 3 classes\n",
    "17. PaperlessBilling (Whether the customer has paperless billing or not (Yes, No)) - binary\n",
    "18. PaymentMethod (The customer’s payment method (Electronic check, Mailed check, Bank transfer (automatic), Credit card (automatic))) - 4 classes\n",
    "19. MonthlyCharges (The amount charged to the customer monthly) - continuous\n",
    "20. TotalCharges (The total amount charged to the customer) - continuous\n",
    "21. Churn (Whether the customer churned or not (Yes or No)) - binary (target)\n"
   ]
  },
  {
   "cell_type": "code",
   "execution_count": 356,
   "metadata": {
    "collapsed": true
   },
   "outputs": [],
   "source": [
    "import pandas as pd\n",
    "import numpy as np"
   ]
  },
  {
   "cell_type": "code",
   "execution_count": 357,
   "metadata": {
    "collapsed": true
   },
   "outputs": [],
   "source": [
    "tel = pd.read_table(\"WA_Fn-UseC_-Telco-Customer-Churn.csv\", sep = \",\")"
   ]
  },
  {
   "cell_type": "markdown",
   "metadata": {},
   "source": [
    "# Checking data and preprocessing"
   ]
  },
  {
   "cell_type": "code",
   "execution_count": 359,
   "metadata": {
    "collapsed": false
   },
   "outputs": [
    {
     "data": {
      "text/plain": [
       "customerID          0.0\n",
       "gender              0.0\n",
       "SeniorCitizen       0.0\n",
       "Partner             0.0\n",
       "Dependents          0.0\n",
       "tenure              0.0\n",
       "PhoneService        0.0\n",
       "MultipleLines       0.0\n",
       "InternetService     0.0\n",
       "OnlineSecurity      0.0\n",
       "OnlineBackup        0.0\n",
       "DeviceProtection    0.0\n",
       "TechSupport         0.0\n",
       "StreamingTV         0.0\n",
       "StreamingMovies     0.0\n",
       "Contract            0.0\n",
       "PaperlessBilling    0.0\n",
       "PaymentMethod       0.0\n",
       "MonthlyCharges      0.0\n",
       "TotalCharges        0.0\n",
       "Churn               0.0\n",
       "dtype: float64"
      ]
     },
     "execution_count": 359,
     "metadata": {},
     "output_type": "execute_result"
    }
   ],
   "source": [
    "#checking nulls\n",
    "tel.isnull().apply(np.mean) "
   ]
  },
  {
   "cell_type": "code",
   "execution_count": 360,
   "metadata": {
    "collapsed": false
   },
   "outputs": [
    {
     "data": {
      "text/plain": [
       "customerID           object\n",
       "gender               object\n",
       "SeniorCitizen         int64\n",
       "Partner              object\n",
       "Dependents           object\n",
       "tenure                int64\n",
       "PhoneService         object\n",
       "MultipleLines        object\n",
       "InternetService      object\n",
       "OnlineSecurity       object\n",
       "OnlineBackup         object\n",
       "DeviceProtection     object\n",
       "TechSupport          object\n",
       "StreamingTV          object\n",
       "StreamingMovies      object\n",
       "Contract             object\n",
       "PaperlessBilling     object\n",
       "PaymentMethod        object\n",
       "MonthlyCharges      float64\n",
       "TotalCharges         object\n",
       "Churn                object\n",
       "dtype: object"
      ]
     },
     "execution_count": 360,
     "metadata": {},
     "output_type": "execute_result"
    }
   ],
   "source": [
    "#checking formats\n",
    "tel.dtypes "
   ]
  },
  {
   "cell_type": "markdown",
   "metadata": {},
   "source": [
    "I would like to transform TotalCharges to numeric (integer) and SeniorCitizien to object"
   ]
  },
  {
   "cell_type": "code",
   "execution_count": 361,
   "metadata": {
    "collapsed": false
   },
   "outputs": [
    {
     "data": {
      "text/plain": [
       "           11\n",
       "20.2       11\n",
       "19.75       9\n",
       "19.9        8\n",
       "19.65       8\n",
       "20.05       8\n",
       "45.3        7\n",
       "19.55       7\n",
       "19.45       6\n",
       "20.25       6\n",
       "20.15       6\n",
       "20.45       5\n",
       "20.3        5\n",
       "69.95       4\n",
       "69.65       4\n",
       "19.95       4\n",
       "20.5        4\n",
       "49.9        4\n",
       "19.3        4\n",
       "19.2        4\n",
       "20.4        4\n",
       "69.6        4\n",
       "20.35       4\n",
       "74.7        4\n",
       "75.3        4\n",
       "44.4        4\n",
       "69.9        4\n",
       "19.85       4\n",
       "19.4        4\n",
       "19.5        4\n",
       "           ..\n",
       "163.6       1\n",
       "3894.4      1\n",
       "1275.7      1\n",
       "2337.45     1\n",
       "3432.9      1\n",
       "178.8       1\n",
       "651.4       1\n",
       "4915.15     1\n",
       "927.65      1\n",
       "3053        1\n",
       "7142.5      1\n",
       "1343.4      1\n",
       "1663.5      1\n",
       "3886.05     1\n",
       "947.75      1\n",
       "289.3       1\n",
       "2209.15     1\n",
       "44.3        1\n",
       "48.95       1\n",
       "341.45      1\n",
       "5388.15     1\n",
       "7413.55     1\n",
       "3653.35     1\n",
       "520.1       1\n",
       "1990.5      1\n",
       "1208.6      1\n",
       "672.2       1\n",
       "5124.55     1\n",
       "1912.15     1\n",
       "5315.1      1\n",
       "Name: TotalCharges, dtype: int64"
      ]
     },
     "execution_count": 361,
     "metadata": {},
     "output_type": "execute_result"
    }
   ],
   "source": [
    "tel[\"TotalCharges\"].value_counts() "
   ]
  },
  {
   "cell_type": "markdown",
   "metadata": {},
   "source": [
    "There are 11 rows without value. I will drop those records (I have to do this to transform TotalCharges to numeric)"
   ]
  },
  {
   "cell_type": "code",
   "execution_count": 362,
   "metadata": {
    "collapsed": true
   },
   "outputs": [],
   "source": [
    "tel = tel[tel.TotalCharges != \" \"] #drop records with \"space bar value\" :)"
   ]
  },
  {
   "cell_type": "code",
   "execution_count": 363,
   "metadata": {
    "collapsed": false
   },
   "outputs": [
    {
     "data": {
      "text/plain": [
       "(7032, 21)"
      ]
     },
     "execution_count": 363,
     "metadata": {},
     "output_type": "execute_result"
    }
   ],
   "source": [
    "tel.shape"
   ]
  },
  {
   "cell_type": "code",
   "execution_count": 364,
   "metadata": {
    "collapsed": false
   },
   "outputs": [
    {
     "data": {
      "text/plain": [
       "customerID           object\n",
       "gender               object\n",
       "SeniorCitizen        object\n",
       "Partner              object\n",
       "Dependents           object\n",
       "tenure                int64\n",
       "PhoneService         object\n",
       "MultipleLines        object\n",
       "InternetService      object\n",
       "OnlineSecurity       object\n",
       "OnlineBackup         object\n",
       "DeviceProtection     object\n",
       "TechSupport          object\n",
       "StreamingTV          object\n",
       "StreamingMovies      object\n",
       "Contract             object\n",
       "PaperlessBilling     object\n",
       "PaymentMethod        object\n",
       "MonthlyCharges      float64\n",
       "TotalCharges          int64\n",
       "Churn                object\n",
       "dtype: object"
      ]
     },
     "execution_count": 364,
     "metadata": {},
     "output_type": "execute_result"
    }
   ],
   "source": [
    "tel[\"TotalCharges\"] = tel[\"TotalCharges\"].astype(float).astype(int) #transforming TotalCharges to numeric (int)\n",
    "tel[\"SeniorCitizen\"] = tel[\"SeniorCitizen\"].astype(str) #transforming SeniorCitizen to string\n",
    "tel.dtypes"
   ]
  },
  {
   "cell_type": "code",
   "execution_count": 365,
   "metadata": {
    "collapsed": false
   },
   "outputs": [
    {
     "data": {
      "text/plain": [
       "[7032, 2, 2, 2, 2, 72, 2, 3, 3, 3, 3, 3, 3, 3, 3, 3, 2, 4, 1584, 3846, 2]"
      ]
     },
     "execution_count": 365,
     "metadata": {},
     "output_type": "execute_result"
    }
   ],
   "source": [
    "#I want to check distribution each object variable in relation to churn\n",
    "#Firstly I will sort out my variables in dataframe to check distribution comfortably :)\n",
    "#I create list with sum of categories of variables \n",
    "lista = []\n",
    "for i in range (0,21):\n",
    "   lista.append(tel.groupby(tel.ix[:,i]).size().shape[0])\n",
    "lista"
   ]
  },
  {
   "cell_type": "code",
   "execution_count": 366,
   "metadata": {
    "collapsed": false
   },
   "outputs": [
    {
     "data": {
      "text/html": [
       "<div>\n",
       "<table border=\"1\" class=\"dataframe\">\n",
       "  <thead>\n",
       "    <tr style=\"text-align: right;\">\n",
       "      <th></th>\n",
       "      <th>customerID</th>\n",
       "      <th>gender</th>\n",
       "      <th>SeniorCitizen</th>\n",
       "      <th>Partner</th>\n",
       "      <th>Dependents</th>\n",
       "      <th>tenure</th>\n",
       "      <th>PhoneService</th>\n",
       "      <th>MultipleLines</th>\n",
       "      <th>InternetService</th>\n",
       "      <th>OnlineSecurity</th>\n",
       "      <th>...</th>\n",
       "      <th>DeviceProtection</th>\n",
       "      <th>TechSupport</th>\n",
       "      <th>StreamingTV</th>\n",
       "      <th>StreamingMovies</th>\n",
       "      <th>Contract</th>\n",
       "      <th>PaperlessBilling</th>\n",
       "      <th>PaymentMethod</th>\n",
       "      <th>MonthlyCharges</th>\n",
       "      <th>TotalCharges</th>\n",
       "      <th>Churn</th>\n",
       "    </tr>\n",
       "  </thead>\n",
       "  <tbody>\n",
       "    <tr>\n",
       "      <th>7042</th>\n",
       "      <td>3186-AJIEK</td>\n",
       "      <td>Male</td>\n",
       "      <td>0</td>\n",
       "      <td>No</td>\n",
       "      <td>No</td>\n",
       "      <td>66</td>\n",
       "      <td>Yes</td>\n",
       "      <td>No</td>\n",
       "      <td>Fiber optic</td>\n",
       "      <td>Yes</td>\n",
       "      <td>...</td>\n",
       "      <td>Yes</td>\n",
       "      <td>Yes</td>\n",
       "      <td>Yes</td>\n",
       "      <td>Yes</td>\n",
       "      <td>Two year</td>\n",
       "      <td>Yes</td>\n",
       "      <td>Bank transfer (automatic)</td>\n",
       "      <td>105.65</td>\n",
       "      <td>6844</td>\n",
       "      <td>No</td>\n",
       "    </tr>\n",
       "    <tr>\n",
       "      <th>7043</th>\n",
       "      <td>7032</td>\n",
       "      <td>2</td>\n",
       "      <td>2</td>\n",
       "      <td>2</td>\n",
       "      <td>2</td>\n",
       "      <td>72</td>\n",
       "      <td>2</td>\n",
       "      <td>3</td>\n",
       "      <td>3</td>\n",
       "      <td>3</td>\n",
       "      <td>...</td>\n",
       "      <td>3</td>\n",
       "      <td>3</td>\n",
       "      <td>3</td>\n",
       "      <td>3</td>\n",
       "      <td>3</td>\n",
       "      <td>2</td>\n",
       "      <td>4</td>\n",
       "      <td>1584.00</td>\n",
       "      <td>3846</td>\n",
       "      <td>2</td>\n",
       "    </tr>\n",
       "  </tbody>\n",
       "</table>\n",
       "<p>2 rows × 21 columns</p>\n",
       "</div>"
      ],
      "text/plain": [
       "      customerID gender SeniorCitizen Partner Dependents  tenure PhoneService  \\\n",
       "7042  3186-AJIEK   Male             0      No         No      66          Yes   \n",
       "7043        7032      2             2       2          2      72            2   \n",
       "\n",
       "     MultipleLines InternetService OnlineSecurity  ...   DeviceProtection  \\\n",
       "7042            No     Fiber optic            Yes  ...                Yes   \n",
       "7043             3               3              3  ...                  3   \n",
       "\n",
       "     TechSupport StreamingTV StreamingMovies  Contract PaperlessBilling  \\\n",
       "7042         Yes         Yes             Yes  Two year              Yes   \n",
       "7043           3           3               3         3                2   \n",
       "\n",
       "                  PaymentMethod MonthlyCharges  TotalCharges  Churn  \n",
       "7042  Bank transfer (automatic)         105.65          6844     No  \n",
       "7043                          4        1584.00          3846      2  \n",
       "\n",
       "[2 rows x 21 columns]"
      ]
     },
     "execution_count": 366,
     "metadata": {},
     "output_type": "execute_result"
    }
   ],
   "source": [
    "#I will paste 'lista' in last row of my dataframe\n",
    "tel.loc[7043] = lista\n",
    "tel.tail(2)"
   ]
  },
  {
   "cell_type": "code",
   "execution_count": 367,
   "metadata": {
    "collapsed": false
   },
   "outputs": [
    {
     "data": {
      "text/html": [
       "<div>\n",
       "<table border=\"1\" class=\"dataframe\">\n",
       "  <thead>\n",
       "    <tr style=\"text-align: right;\">\n",
       "      <th></th>\n",
       "      <th>Churn</th>\n",
       "      <th>gender</th>\n",
       "      <th>SeniorCitizen</th>\n",
       "      <th>Partner</th>\n",
       "      <th>Dependents</th>\n",
       "      <th>PaperlessBilling</th>\n",
       "      <th>PhoneService</th>\n",
       "      <th>Contract</th>\n",
       "      <th>StreamingMovies</th>\n",
       "      <th>StreamingTV</th>\n",
       "      <th>...</th>\n",
       "      <th>OnlineBackup</th>\n",
       "      <th>OnlineSecurity</th>\n",
       "      <th>InternetService</th>\n",
       "      <th>MultipleLines</th>\n",
       "      <th>DeviceProtection</th>\n",
       "      <th>PaymentMethod</th>\n",
       "      <th>tenure</th>\n",
       "      <th>MonthlyCharges</th>\n",
       "      <th>TotalCharges</th>\n",
       "      <th>customerID</th>\n",
       "    </tr>\n",
       "  </thead>\n",
       "  <tbody>\n",
       "    <tr>\n",
       "      <th>7042</th>\n",
       "      <td>No</td>\n",
       "      <td>Male</td>\n",
       "      <td>0</td>\n",
       "      <td>No</td>\n",
       "      <td>No</td>\n",
       "      <td>Yes</td>\n",
       "      <td>Yes</td>\n",
       "      <td>Two year</td>\n",
       "      <td>Yes</td>\n",
       "      <td>Yes</td>\n",
       "      <td>...</td>\n",
       "      <td>No</td>\n",
       "      <td>Yes</td>\n",
       "      <td>Fiber optic</td>\n",
       "      <td>No</td>\n",
       "      <td>Yes</td>\n",
       "      <td>Bank transfer (automatic)</td>\n",
       "      <td>66</td>\n",
       "      <td>105.65</td>\n",
       "      <td>6844</td>\n",
       "      <td>3186-AJIEK</td>\n",
       "    </tr>\n",
       "    <tr>\n",
       "      <th>7043</th>\n",
       "      <td>2</td>\n",
       "      <td>2</td>\n",
       "      <td>2</td>\n",
       "      <td>2</td>\n",
       "      <td>2</td>\n",
       "      <td>2</td>\n",
       "      <td>2</td>\n",
       "      <td>3</td>\n",
       "      <td>3</td>\n",
       "      <td>3</td>\n",
       "      <td>...</td>\n",
       "      <td>3</td>\n",
       "      <td>3</td>\n",
       "      <td>3</td>\n",
       "      <td>3</td>\n",
       "      <td>3</td>\n",
       "      <td>4</td>\n",
       "      <td>72</td>\n",
       "      <td>1584.00</td>\n",
       "      <td>3846</td>\n",
       "      <td>7032</td>\n",
       "    </tr>\n",
       "  </tbody>\n",
       "</table>\n",
       "<p>2 rows × 21 columns</p>\n",
       "</div>"
      ],
      "text/plain": [
       "     Churn gender SeniorCitizen Partner Dependents PaperlessBilling  \\\n",
       "7042    No   Male             0      No         No              Yes   \n",
       "7043     2      2             2       2          2                2   \n",
       "\n",
       "     PhoneService  Contract StreamingMovies StreamingTV     ...      \\\n",
       "7042          Yes  Two year             Yes         Yes     ...       \n",
       "7043            2         3               3           3     ...       \n",
       "\n",
       "     OnlineBackup OnlineSecurity InternetService MultipleLines  \\\n",
       "7042           No            Yes     Fiber optic            No   \n",
       "7043            3              3               3             3   \n",
       "\n",
       "     DeviceProtection              PaymentMethod tenure  MonthlyCharges  \\\n",
       "7042              Yes  Bank transfer (automatic)     66          105.65   \n",
       "7043                3                          4     72         1584.00   \n",
       "\n",
       "      TotalCharges  customerID  \n",
       "7042          6844  3186-AJIEK  \n",
       "7043          3846        7032  \n",
       "\n",
       "[2 rows x 21 columns]"
      ]
     },
     "execution_count": 367,
     "metadata": {},
     "output_type": "execute_result"
    }
   ],
   "source": [
    "#I will sort out my variables using my last row\n",
    "tel = tel.sort_values(tel.last_valid_index(),axis = 1)\n",
    "tel.tail(2)"
   ]
  },
  {
   "cell_type": "code",
   "execution_count": 368,
   "metadata": {
    "collapsed": false
   },
   "outputs": [
    {
     "data": {
      "text/html": [
       "<div>\n",
       "<table border=\"1\" class=\"dataframe\">\n",
       "  <thead>\n",
       "    <tr style=\"text-align: right;\">\n",
       "      <th></th>\n",
       "      <th>Churn</th>\n",
       "      <th>gender</th>\n",
       "      <th>SeniorCitizen</th>\n",
       "      <th>Partner</th>\n",
       "      <th>Dependents</th>\n",
       "      <th>PaperlessBilling</th>\n",
       "      <th>PhoneService</th>\n",
       "      <th>Contract</th>\n",
       "      <th>StreamingMovies</th>\n",
       "      <th>StreamingTV</th>\n",
       "      <th>...</th>\n",
       "      <th>OnlineBackup</th>\n",
       "      <th>OnlineSecurity</th>\n",
       "      <th>InternetService</th>\n",
       "      <th>MultipleLines</th>\n",
       "      <th>DeviceProtection</th>\n",
       "      <th>PaymentMethod</th>\n",
       "      <th>tenure</th>\n",
       "      <th>MonthlyCharges</th>\n",
       "      <th>TotalCharges</th>\n",
       "      <th>customerID</th>\n",
       "    </tr>\n",
       "  </thead>\n",
       "  <tbody>\n",
       "    <tr>\n",
       "      <th>7041</th>\n",
       "      <td>Yes</td>\n",
       "      <td>Male</td>\n",
       "      <td>1</td>\n",
       "      <td>Yes</td>\n",
       "      <td>No</td>\n",
       "      <td>Yes</td>\n",
       "      <td>Yes</td>\n",
       "      <td>Month-to-month</td>\n",
       "      <td>No</td>\n",
       "      <td>No</td>\n",
       "      <td>...</td>\n",
       "      <td>No</td>\n",
       "      <td>No</td>\n",
       "      <td>Fiber optic</td>\n",
       "      <td>Yes</td>\n",
       "      <td>No</td>\n",
       "      <td>Mailed check</td>\n",
       "      <td>4</td>\n",
       "      <td>74.40</td>\n",
       "      <td>306</td>\n",
       "      <td>8361-LTMKD</td>\n",
       "    </tr>\n",
       "    <tr>\n",
       "      <th>7042</th>\n",
       "      <td>No</td>\n",
       "      <td>Male</td>\n",
       "      <td>0</td>\n",
       "      <td>No</td>\n",
       "      <td>No</td>\n",
       "      <td>Yes</td>\n",
       "      <td>Yes</td>\n",
       "      <td>Two year</td>\n",
       "      <td>Yes</td>\n",
       "      <td>Yes</td>\n",
       "      <td>...</td>\n",
       "      <td>No</td>\n",
       "      <td>Yes</td>\n",
       "      <td>Fiber optic</td>\n",
       "      <td>No</td>\n",
       "      <td>Yes</td>\n",
       "      <td>Bank transfer (automatic)</td>\n",
       "      <td>66</td>\n",
       "      <td>105.65</td>\n",
       "      <td>6844</td>\n",
       "      <td>3186-AJIEK</td>\n",
       "    </tr>\n",
       "  </tbody>\n",
       "</table>\n",
       "<p>2 rows × 21 columns</p>\n",
       "</div>"
      ],
      "text/plain": [
       "     Churn gender SeniorCitizen Partner Dependents PaperlessBilling  \\\n",
       "7041   Yes   Male             1     Yes         No              Yes   \n",
       "7042    No   Male             0      No         No              Yes   \n",
       "\n",
       "     PhoneService        Contract StreamingMovies StreamingTV     ...      \\\n",
       "7041          Yes  Month-to-month              No          No     ...       \n",
       "7042          Yes        Two year             Yes         Yes     ...       \n",
       "\n",
       "     OnlineBackup OnlineSecurity InternetService MultipleLines  \\\n",
       "7041           No             No     Fiber optic           Yes   \n",
       "7042           No            Yes     Fiber optic            No   \n",
       "\n",
       "     DeviceProtection              PaymentMethod tenure  MonthlyCharges  \\\n",
       "7041               No               Mailed check      4           74.40   \n",
       "7042              Yes  Bank transfer (automatic)     66          105.65   \n",
       "\n",
       "      TotalCharges  customerID  \n",
       "7041           306  8361-LTMKD  \n",
       "7042          6844  3186-AJIEK  \n",
       "\n",
       "[2 rows x 21 columns]"
      ]
     },
     "execution_count": 368,
     "metadata": {},
     "output_type": "execute_result"
    }
   ],
   "source": [
    "#I can drop last row from my df\n",
    "tel = tel[:-1]\n",
    "tel.tail(2)"
   ]
  },
  {
   "cell_type": "markdown",
   "metadata": {},
   "source": [
    "# Category variables"
   ]
  },
  {
   "cell_type": "code",
   "execution_count": 369,
   "metadata": {
    "collapsed": false
   },
   "outputs": [
    {
     "data": {
      "image/png": "[encoded data removed]",
      "text/plain": [
       "<matplotlib.figure.Figure at 0x7efbb025b7b8>"
      ]
     },
     "metadata": {},
     "output_type": "display_data"
    },
    {
     "data": {
      "image/png": "[encoded data removed]",
      "text/plain": [
       "<matplotlib.figure.Figure at 0x7efbb0041978>"
      ]
     },
     "metadata": {},
     "output_type": "display_data"
    },
    {
     "data": {
      "image/png": "[encoded data removed]",
      "text/plain": [
       "<matplotlib.figure.Figure at 0x7efbb0053ac8>"
      ]
     },
     "metadata": {},
     "output_type": "display_data"
    },
    {
     "data": {
      "image/png": "[encoded data removed]",
      "text/plain": [
       "<matplotlib.figure.Figure at 0x7efba34305f8>"
      ]
     },
     "metadata": {},
     "output_type": "display_data"
    },
    {
     "data": {
      "image/png": "[encoded data removed]",
      "text/plain": [
       "<matplotlib.figure.Figure at 0x7efbb00296d8>"
      ]
     },
     "metadata": {},
     "output_type": "display_data"
    },
    {
     "data": {
      "image/png": "[encoded data removed]",
      "text/plain": [
       "<matplotlib.figure.Figure at 0x7efbb00272e8>"
      ]
     },
     "metadata": {},
     "output_type": "display_data"
    }
   ],
   "source": [
    "#Creating distribution in realtion to churn\n",
    "import matplotlib.pyplot as plt \n",
    "from matplotlib import rc \n",
    "\n",
    "\n",
    "for i in range(1,7): \n",
    "    pd1 = pd.crosstab(tel.ix[:,i], tel.Churn, margins=False)\n",
    "\n",
    "    # Data\n",
    "    r = [0,1]\n",
    "\n",
    "    # From raw value to percentage\n",
    "    totals = [i+j for i,j in zip(pd1['Yes'], pd1['No'])]\n",
    "    redBars = [i / j * 100 for i,j in zip(pd1['Yes'], totals)]\n",
    "    greenBars = [i / j * 100 for i,j in zip(pd1['No'], totals)]\n",
    "\n",
    "    # plot\n",
    "    barWidth = 0.85\n",
    "    names = (tel.ix[:,i].sort_values(ascending=True).unique()[0], tel.ix[:,i].sort_values(ascending=True).unique()[1])\n",
    "    # Create green Bars\n",
    "    plt.bar(r, greenBars, bottom=redBars, color='g', edgecolor='white', width=barWidth)\n",
    "    \n",
    "    # Create red Bars\n",
    "    plt.bar(r, redBars, color='r', edgecolor='white', width=barWidth)\n",
    "    \n",
    "    # Custom x axis\n",
    "    plt.xticks(r, names)\n",
    "    plt.xlabel(tel.columns.values[i])\n",
    "\n",
    "    # Show graphic\n",
    "    plt.show()"
   ]
  },
  {
   "cell_type": "markdown",
   "metadata": {
    "collapsed": true
   },
   "source": [
    "Analyzing the distribution relative to churn, variable 'gender' and 'PhoneService' do not affect Churn\n",
    "\n",
    "There is similar distribution and varaibels related to the same area. 'SeniorCitizon' and 'PaperlessBilling' so I will keep only one of them -> \"SeniorCitizen'\n",
    "\n",
    "The same situation is between variables 'Partner' and 'Dependents' (similar distribution and related to the same area: family) I will keep only -> 'Partner'\n"
   ]
  },
  {
   "cell_type": "code",
   "execution_count": 370,
   "metadata": {
    "collapsed": false
   },
   "outputs": [
    {
     "data": {
      "image/png": "[encoded data removed]",
      "text/plain": [
       "<matplotlib.figure.Figure at 0x7efba312d668>"
      ]
     },
     "metadata": {},
     "output_type": "display_data"
    },
    {
     "data": {
      "image/png": "[encoded data removed]",
      "text/plain": [
       "<matplotlib.figure.Figure at 0x7efbb823ec88>"
      ]
     },
     "metadata": {},
     "output_type": "display_data"
    },
    {
     "data": {
      "image/png": "[encoded data removed]",
      "text/plain": [
       "<matplotlib.figure.Figure at 0x7efbb0098b70>"
      ]
     },
     "metadata": {},
     "output_type": "display_data"
    },
    {
     "data": {
      "image/png": "[encoded data removed]",
      "text/plain": [
       "<matplotlib.figure.Figure at 0x7efba3132be0>"
      ]
     },
     "metadata": {},
     "output_type": "display_data"
    },
    {
     "data": {
      "image/png": "[encoded data removed]",
      "text/plain": [
       "<matplotlib.figure.Figure at 0x7efbb82889b0>"
      ]
     },
     "metadata": {},
     "output_type": "display_data"
    },
    {
     "data": {
      "image/png": "[encoded data removed]",
      "text/plain": [
       "<matplotlib.figure.Figure at 0x7efbb81b1710>"
      ]
     },
     "metadata": {},
     "output_type": "display_data"
    },
    {
     "data": {
      "image/png": "[encoded data removed]",
      "text/plain": [
       "<matplotlib.figure.Figure at 0x7efba2fa9cc0>"
      ]
     },
     "metadata": {},
     "output_type": "display_data"
    },
    {
     "data": {
      "image/png": "[encoded data removed]",
      "text/plain": [
       "<matplotlib.figure.Figure at 0x7efba32a7eb8>"
      ]
     },
     "metadata": {},
     "output_type": "display_data"
    },
    {
     "data": {
      "image/png": "[encoded data removed]",
      "text/plain": [
       "<matplotlib.figure.Figure at 0x7efba30817f0>"
      ]
     },
     "metadata": {},
     "output_type": "display_data"
    }
   ],
   "source": [
    "for i in range(7,16): \n",
    "    pd1 = pd.crosstab(tel.ix[:,i], tel.Churn, margins=False)\n",
    "\n",
    "    # Data\n",
    "    r = [0,1,2]\n",
    "\n",
    "    # From raw value to percentage\n",
    "    totals = [i+j for i,j in zip(pd1['Yes'], pd1['No'])]\n",
    "    redBars = [i / j * 100 for i,j in zip(pd1['Yes'], totals)]\n",
    "    greenBars = [i / j * 100 for i,j in zip(pd1['No'], totals)]\n",
    "\n",
    "    # plot\n",
    "    barWidth = 0.85\n",
    "    names = (tel.ix[:,i].sort_values(ascending=True).unique()[0], tel.ix[:,i].sort_values(ascending=True).unique()[1], \n",
    "             tel.ix[:,i].sort_values(ascending=True).unique()[2])\n",
    "    # Create green Bars\n",
    "    plt.bar(r, greenBars, bottom=redBars, color='g', edgecolor='white', width=barWidth)\n",
    "    \n",
    "    # Create red Bars\n",
    "    plt.bar(r, redBars, color='r', edgecolor='white', width=barWidth)\n",
    "    \n",
    "\n",
    "    # Custom x axis\n",
    "    plt.xticks(r, names)\n",
    "    plt.xlabel(tel.columns.values[i])\n",
    "\n",
    "    # Show graphic\n",
    "    plt.show()"
   ]
  },
  {
   "cell_type": "markdown",
   "metadata": {
    "collapsed": true
   },
   "source": [
    "Analyzing the distribution relative to churn, variable 'MultiplieLines ' do not affect Churn\n",
    "\n",
    "There is similar distribution 'StreamingTV' and 'StreamingMovies' and those variables are related to the same area: using Internet to watch TV. So I will keep only one of them -> \"StreamingTV'\n",
    "\n",
    "The same situation is with variables 'DeviceProtection\" and 'OnlineBackup', 'TechSupport' and \"OnlineSecurity' I will keep only -> 'OnlineBackup' and 'TechSupport'\n",
    "\n",
    "Analyzing distribution of contract there is more sense to do binary category (month-to-month and long-term-contract)\n",
    "\n",
    "InternetService is very similar to DeviceProtection and OnlineBackup but I will keep it, because DeviceProtection and OnlineBackup is related to Internet safety. And InternetService is slighlty different area.\n"
   ]
  },
  {
   "cell_type": "code",
   "execution_count": 372,
   "metadata": {
    "collapsed": false
   },
   "outputs": [
    {
     "data": {
      "image/png": "[encoded data removed]",
      "text/plain": [
       "<matplotlib.figure.Figure at 0x7efbb002cbe0>"
      ]
     },
     "metadata": {},
     "output_type": "display_data"
    }
   ],
   "source": [
    "for i in range(16,17): \n",
    "    pd1 = pd.crosstab(tel.ix[:,i], tel.Churn, margins=False)\n",
    "\n",
    "    # Data\n",
    "    r = [0,1,2,4]\n",
    "\n",
    "    # From raw value to percentage\n",
    "    totals = [i+j for i,j in zip(pd1['Yes'], pd1['No'])]\n",
    "    redBars = [i / j * 100 for i,j in zip(pd1['Yes'], totals)]\n",
    "    greenBars = [i / j * 100 for i,j in zip(pd1['No'], totals)]\n",
    "\n",
    "    # plot\n",
    "    barWidth = 0.85\n",
    "    names = (tel.ix[:,i].sort_values(ascending=True).unique()[0], tel.ix[:,i].sort_values(ascending=True).unique()[1], \n",
    "             tel.ix[:,i].sort_values(ascending=True).unique()[2], tel.ix[:,i].sort_values(ascending=True).unique()[3])\n",
    "    # Create green Bars\n",
    "    plt.bar(r, greenBars, bottom=redBars, color='g', edgecolor='white', width=barWidth)\n",
    "    \n",
    "    # Create red Bars\n",
    "    plt.bar(r, redBars, color='r', edgecolor='white', width=barWidth)\n",
    "    \n",
    "\n",
    "    # Custom x axis\n",
    "    plt.xticks(r, names)\n",
    "    plt.xlabel(tel.columns.values[i])\n",
    "\n",
    "    # Show graphic\n",
    "    plt.show()\n"
   ]
  },
  {
   "cell_type": "markdown",
   "metadata": {
    "collapsed": true
   },
   "source": [
    "Analyzing distribution of PaymentMethod there is more sense to do binary category (ElectronicCheck and OtherPaymentMethod)"
   ]
  },
  {
   "cell_type": "markdown",
   "metadata": {},
   "source": [
    "# Numeric Variables"
   ]
  },
  {
   "cell_type": "markdown",
   "metadata": {
    "collapsed": true
   },
   "source": [
    "There are only 3 numeric variables, probably TotalCharges is a combination of MonthlyCharges and tenure"
   ]
  },
  {
   "cell_type": "code",
   "execution_count": 373,
   "metadata": {
    "collapsed": false
   },
   "outputs": [
    {
     "data": {
      "image/png": "[encoded data removed]",
      "text/plain": [
       "<matplotlib.figure.Figure at 0x7efba30b9978>"
      ]
     },
     "metadata": {},
     "output_type": "display_data"
    }
   ],
   "source": [
    "x = tel[\"TotalCharges\"]\n",
    "y = tel[\"MonthlyCharges\"] * tel[\"tenure\"]\n",
    "\n",
    "plt.scatter(x, y)\n",
    "plt.show()"
   ]
  },
  {
   "cell_type": "markdown",
   "metadata": {},
   "source": [
    "Just a perfect correlation so I will remove TotalCharges from my df \n",
    "\n",
    "Let's check are there outlieres among countinous variables..."
   ]
  },
  {
   "cell_type": "code",
   "execution_count": 374,
   "metadata": {
    "collapsed": false
   },
   "outputs": [
    {
     "data": {
      "image/png": "[encoded data removed]",
      "text/plain": [
       "<matplotlib.figure.Figure at 0x7efbb0069630>"
      ]
     },
     "metadata": {},
     "output_type": "display_data"
    },
    {
     "data": {
      "image/png": "[encoded data removed]",
      "text/plain": [
       "<matplotlib.figure.Figure at 0x7efba310ad30>"
      ]
     },
     "metadata": {},
     "output_type": "display_data"
    }
   ],
   "source": [
    "sns.boxplot(tel[\"tenure\"])\n",
    "plt.show()\n",
    "sns.boxplot(tel[\"MonthlyCharges\"])\n",
    "plt.show()"
   ]
  },
  {
   "cell_type": "markdown",
   "metadata": {},
   "source": [
    "Boxplots show us that there is no outlieres\n",
    "\n",
    "Next step: I will transform continous variables (monthlyCharges nad tenure) to intervals\n"
   ]
  },
  {
   "cell_type": "code",
   "execution_count": 375,
   "metadata": {
    "collapsed": false
   },
   "outputs": [],
   "source": [
    "bin1 = [0, 40, 80, 120]\n",
    "bin2 = [0, 24, 48, 72] \n",
    "MonthlyCharges_bin = pd.cut(tel.MonthlyCharges, bin1, right=True, labels = ['0 - 40', '41 - 80', '81 - 120'])\n",
    "tenure_bin = pd.cut(tel.tenure, bin2, right=True, labels = ['0 - 24', '25 - 48', '49 - 72'])\n"
   ]
  },
  {
   "cell_type": "code",
   "execution_count": 376,
   "metadata": {
    "collapsed": false
   },
   "outputs": [],
   "source": [
    "#Mapping Churn to get mean\n",
    "to_heat = tel\n",
    "tel = tel.assign(tenure_bin=tenure_bin.values, MonthlyCharges_bin = MonthlyCharges_bin.values)\n",
    "tel['Churn'] = tel['Churn'].map({'Yes': 1, 'No': 0})\n"
   ]
  },
  {
   "cell_type": "code",
   "execution_count": 378,
   "metadata": {
    "collapsed": false
   },
   "outputs": [
    {
     "data": {
      "image/png": "[encoded data removed]",
      "text/plain": [
       "<matplotlib.figure.Figure at 0x7efba3148d30>"
      ]
     },
     "metadata": {},
     "output_type": "display_data"
    }
   ],
   "source": [
    "import seaborn as sns\n",
    "to_heat_pivot = tel.pivot_table(index = \"MonthlyCharges_bin\", columns = \"tenure_bin\", values = \"Churn\", aggfunc = \"mean\")\n",
    "\n",
    "sns.heatmap(to_heat_pivot,annot=True, cmap = \"Reds\", linewidths=0.5)\n",
    "plt.show()\n"
   ]
  },
  {
   "cell_type": "markdown",
   "metadata": {},
   "source": [
    "There is a simple correltion if someone spends more many and staying shorter with our company share of Churn is growing"
   ]
  },
  {
   "cell_type": "code",
   "execution_count": 379,
   "metadata": {
    "collapsed": false
   },
   "outputs": [
    {
     "data": {
      "image/png": "[encoded data removed]",
      "text/plain": [
       "<matplotlib.figure.Figure at 0x7efbb80fa3c8>"
      ]
     },
     "metadata": {},
     "output_type": "display_data"
    }
   ],
   "source": [
    "to_heat_pivot_sum = tel.pivot_table(index = \"MonthlyCharges_bin\", columns = \"tenure_bin\", values = \"Churn\", aggfunc = \"sum\")\n",
    "\n",
    "sns.heatmap(to_heat_pivot_sum,annot=True, linewidths=0.5, cmap = \"Reds\", annot_kws = {\"size\": 16}, fmt = \"d\")\n",
    "plt.show()"
   ]
  },
  {
   "cell_type": "markdown",
   "metadata": {},
   "source": [
    "But most of our \"1\" (churned people) - about 60% - we have among people who pay Monthly 41 - 120 and stay with our company from 1 month to 24 month."
   ]
  },
  {
   "cell_type": "markdown",
   "metadata": {
    "collapsed": false
   },
   "source": [
    "Lets prepare our finall df\n"
   ]
  },
  {
   "cell_type": "code",
   "execution_count": 383,
   "metadata": {
    "collapsed": false
   },
   "outputs": [],
   "source": [
    "tel_final = tel\n"
   ]
  },
  {
   "cell_type": "code",
   "execution_count": 384,
   "metadata": {
    "collapsed": false
   },
   "outputs": [],
   "source": [
    "tel_final = tel_final.drop([\"TotalCharges\", \"gender\", \"PhoneService\", \"PaperlessBilling\", \"Dependents\", \"MultipleLines\", \"StreamingMovies\", \"DeviceProtection\", \"OnlineSecurity\", \"customerID\"], axis=1)"
   ]
  },
  {
   "cell_type": "code",
   "execution_count": 385,
   "metadata": {
    "collapsed": false
   },
   "outputs": [],
   "source": [
    "tel_final['Contract'] = tel_final['Contract'].map({'Month-to-month': \"Month-to-month\", 'One year': \"LongTerm\", 'Two year': \"LongTerm\"})\n",
    "tel_final['PaymentMethod'] = tel_final['PaymentMethod'].map({'Electronic check': \"ElectronicCheck\", 'Mailed check': \"OtherPaymentMethod\", 'Bank transfer (automatic)': \"OtherPaymentMethod\", 'Credit card (automatic)': \"OtherPaymentMethod\"})"
   ]
  },
  {
   "cell_type": "code",
   "execution_count": null,
   "metadata": {
    "collapsed": true
   },
   "outputs": [],
   "source": []
  },
  {
   "cell_type": "markdown",
   "metadata": {},
   "source": [
    "# Modeling"
   ]
  },
  {
   "cell_type": "code",
   "execution_count": 386,
   "metadata": {
    "collapsed": false
   },
   "outputs": [],
   "source": [
    "y = tel_final.Churn\n",
    "X = pd.get_dummies(tel_final.iloc[:,1:12])"
   ]
  },
  {
   "cell_type": "code",
   "execution_count": 388,
   "metadata": {
    "collapsed": false
   },
   "outputs": [],
   "source": [
    "from sklearn.linear_model import LogisticRegression\n",
    "from sklearn.model_selection import train_test_split\n",
    "from sklearn.metrics import accuracy_score\n",
    "from sklearn.metrics import recall_score\n",
    "from sklearn.tree import DecisionTreeClassifier\n",
    "from sklearn.ensemble import RandomForestClassifier\n",
    "from sklearn.naive_bayes import MultinomialNB"
   ]
  },
  {
   "cell_type": "code",
   "execution_count": 389,
   "metadata": {
    "collapsed": false
   },
   "outputs": [],
   "source": [
    "X.drop([\"StreamingTV_No internet service\", \"TechSupport_No internet service\", \"OnlineBackup_No internet service\", \"SeniorCitizen_0\", \"Partner_Yes\", \"Contract_LongTerm\", \"StreamingTV_No\", \"TechSupport_No\", \"OnlineBackup_No\", \"PaymentMethod_OtherPaymentMethod\"], axis = 1, inplace=True)"
   ]
  },
  {
   "cell_type": "code",
   "execution_count": 390,
   "metadata": {
    "collapsed": false
   },
   "outputs": [],
   "source": [
    "X_train, X_test, y_train, y_test = train_test_split (X,y, test_size = 0.3, random_state = 123)"
   ]
  },
  {
   "cell_type": "code",
   "execution_count": 391,
   "metadata": {
    "collapsed": true
   },
   "outputs": [],
   "source": [
    "from sklearn.pipeline import Pipeline\n",
    "import pprint\n",
    "from sklearn.model_selection import GridSearchCV, cross_val_score"
   ]
  },
  {
   "cell_type": "code",
   "execution_count": 392,
   "metadata": {
    "collapsed": true
   },
   "outputs": [],
   "source": [
    "models = [[(\"model\",LogisticRegression())],\n",
    "          [(\"model\",DecisionTreeClassifier())],\n",
    "          [(\"model\",MultinomialNB())],\n",
    "         [(\"model\", RandomForestClassifier())]]\n",
    "param_grids = [{\"model__C\":[0.01,0.1,1], \"model__penalty\":[\"l1\",\"l2\"]},\n",
    "               {\"model__min_samples_leaf\":[1,10,50],\"model__max_depth\":[5,15,50]},\n",
    "               {\"model__alpha\": [1, 0.01]},\n",
    "              {\"model__n_estimators\": [10, 25, 50], \"model__min_samples_leaf\": [1, 15, 50]}]"
   ]
  },
  {
   "cell_type": "code",
   "execution_count": 393,
   "metadata": {
    "collapsed": false
   },
   "outputs": [],
   "source": [
    "best_models = []\n",
    "for pipe, params in zip(models,param_grids):\n",
    "    \n",
    "\n",
    "    pipeline = Pipeline(pipe) \n",
    "\n",
    "    \n",
    "    gs = GridSearchCV(estimator=pipeline, param_grid=params, cv = 5, n_jobs=-1)\n",
    "    gs.fit(X_train,y_train)\n",
    "    \n",
    "    best_models.append(gs.best_estimator_) \n"
   ]
  },
  {
   "cell_type": "code",
   "execution_count": 394,
   "metadata": {
    "collapsed": false
   },
   "outputs": [
    {
     "name": "stdout",
     "output_type": "stream",
     "text": [
      "Jakosc predykcji:  0.7966824644549763 Recall:  0.7223476297968398\n",
      "Jakosc predykcji:  0.776303317535545 Recall:  0.6757990867579908\n",
      "Jakosc predykcji:  0.7270142180094786 Recall:  0.5277161862527716\n",
      "Jakosc predykcji:  0.7924170616113744 Recall:  0.7238095238095238\n"
     ]
    }
   ],
   "source": [
    "for best_model in best_models:\n",
    "    print(\"Jakosc predykcji: \", accuracy_score(best_model.predict(X_test),y_test), \"Recall: \", recall_score(best_model.predict(X_test),y_test))\n"
   ]
  },
  {
   "cell_type": "code",
   "execution_count": 395,
   "metadata": {
    "collapsed": false
   },
   "outputs": [
    {
     "data": {
      "text/plain": [
       "0.7037279436459617"
      ]
     },
     "execution_count": 395,
     "metadata": {},
     "output_type": "execute_result"
    }
   ],
   "source": [
    "from sklearn.metrics import roc_auc_score\n",
    "roc_auc_score(y_score=gs.best_estimator_.predict(X_test), y_true=y_test)\n"
   ]
  },
  {
   "cell_type": "code",
   "execution_count": 396,
   "metadata": {
    "collapsed": false
   },
   "outputs": [
    {
     "data": {
      "text/plain": [
       "{'model__min_samples_leaf': 15, 'model__n_estimators': 25}"
      ]
     },
     "execution_count": 396,
     "metadata": {},
     "output_type": "execute_result"
    }
   ],
   "source": [
    "gs.best_params_"
   ]
  },
  {
   "cell_type": "markdown",
   "metadata": {},
   "source": [
    "Our problem requires that we have to focus primarily on Recall and not on Precision.\n",
    "\n",
    "The best Recall score we got using RandomForestCalssification. Accuracy is slighlty better for LogisticRegression.\n",
    "\n",
    "DecisionTree and especially NaiveBayesClassification got very poor Recall scores."
   ]
  },
  {
   "cell_type": "code",
   "execution_count": null,
   "metadata": {
    "collapsed": true
   },
   "outputs": [],
   "source": []
  }
 ],
 "metadata": {
  "kernelspec": {
   "display_name": "Python 3",
   "language": "python",
   "name": "python3"
  },
  "language_info": {
   "codemirror_mode": {
    "name": "ipython",
    "version": 3
   },
   "file_extension": ".py",
   "mimetype": "text/x-python",
   "name": "python",
   "nbconvert_exporter": "python",
   "pygments_lexer": "ipython3",
   "version": "3.6.0"
  }
 },
 "nbformat": 4,
 "nbformat_minor": 2
}
